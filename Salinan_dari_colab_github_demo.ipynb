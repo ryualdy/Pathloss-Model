{
  "nbformat": 4,
  "nbformat_minor": 0,
  "metadata": {
    "colab": {
      "name": "Salinan dari colab-github-demo.ipynb",
      "provenance": [],
      "collapsed_sections": [],
      "include_colab_link": true
    },
    "kernelspec": {
      "display_name": "Python 3",
      "name": "python3"
    }
  },
  "cells": [
    {
      "cell_type": "markdown",
      "metadata": {
        "id": "view-in-github",
        "colab_type": "text"
      },
      "source": [
        "<a href=\"https://colab.research.google.com/github/ryualdy/Pathloss-Model/blob/main/Salinan_dari_colab_github_demo.ipynb\" target=\"_parent\"><img src=\"https://colab.research.google.com/assets/colab-badge.svg\" alt=\"Open In Colab\"/></a>"
      ]
    },
    {
      "cell_type": "markdown",
      "metadata": {
        "id": "XJGGlp_zpfZp"
      },
      "source": [
        "**Nama** : Trenaldy Abdafanza\r\n",
        "\r\n",
        "**NIM** : 1101174474\r\n",
        "\r\n",
        "**Kelas**: TT-43-G3"
      ]
    },
    {
      "cell_type": "code",
      "metadata": {
        "id": "PGp9KDvhrGxe"
      },
      "source": [
        "import numpy as np"
      ],
      "execution_count": null,
      "outputs": []
    },
    {
      "cell_type": "markdown",
      "metadata": {
        "id": "-lFgf2LTrMSK"
      },
      "source": [
        "NtL = Numeric to Logarithmic\r\n",
        "\r\n",
        "LtN = Logarithmic to Numeric"
      ]
    },
    {
      "cell_type": "code",
      "metadata": {
        "id": "0kXjDLG7rOVN"
      },
      "source": [
        "NtL= lambda x: 10*np.log10(x)"
      ],
      "execution_count": null,
      "outputs": []
    },
    {
      "cell_type": "code",
      "metadata": {
        "id": "9--hUKLmrQF4"
      },
      "source": [
        "LtN= lambda x: 10**(x/10)"
      ],
      "execution_count": null,
      "outputs": []
    },
    {
      "cell_type": "code",
      "metadata": {
        "id": "i7kP-ienrR85"
      },
      "source": [
        "#C1 and C2 values varies according to the frequency (fc)\r\n",
        "def valueC(fc):\r\n",
        "  if (fc>=400 or fc<=1500):\r\n",
        "    c1 = 69.55\r\n",
        "    c2 = 26.16 \r\n",
        "    return c1,c2\r\n",
        "  else:\r\n",
        "    if (fc>1500 or fc<=2000):\r\n",
        "      c1 = 46.3 \r\n",
        "      c2 = 33.9\r\n",
        "      return c1,c2"
      ],
      "execution_count": null,
      "outputs": []
    },
    {
      "cell_type": "code",
      "metadata": {
        "id": "pcqBYIGQrTW8"
      },
      "source": [
        "C1,C2 = valueC(1000)\n",
        "print(\"c1 = \",C1)\n",
        "print(\"c2 = \",C2)"
      ],
      "execution_count": null,
      "outputs": []
    },
    {
      "cell_type": "markdown",
      "metadata": {
        "id": "TVsYYfTfsWn6"
      },
      "source": [
        "c1 =  69.55\r\n",
        "\r\n",
        "c2 =  26.16"
      ]
    },
    {
      "cell_type": "markdown",
      "metadata": {
        "id": "jLsPRdiWsbq-"
      },
      "source": [
        "The Value of **$a(h_R)$** can be calculated using the formula \r\n",
        "$a(h_R) = [1.1 log (f_c) - 0.7]h_R - [1.56log(f_c) - 0.8]$"
      ]
    },
    {
      "cell_type": "code",
      "metadata": {
        "id": "YFmX7MpCsv47"
      },
      "source": [
        "def valueA(fc,hr):\r\n",
        "  ahr = (1.1*np.log10(fc)-0.7)*hr - (1.56*np.log10(fc)-0.8)\r\n",
        "  return ahr"
      ],
      "execution_count": null,
      "outputs": []
    },
    {
      "cell_type": "code",
      "metadata": {
        "id": "F6zuzJkas6Tn"
      },
      "source": [
        "AHR= valueA(1000,10)\r\n",
        "print(\"ahr = \",AHR)"
      ],
      "execution_count": null,
      "outputs": []
    },
    {
      "cell_type": "markdown",
      "metadata": {
        "id": "juBytOczs7D6"
      },
      "source": [
        "ahr =  22.120000000000008"
      ]
    },
    {
      "cell_type": "markdown",
      "metadata": {
        "id": "Ob2kLIwFtO2k"
      },
      "source": [
        "Value of $C_m$ depends on the area such as: \r\n",
        ">\r\n",
        "Urban area, $C_m = 0$ \r\n",
        ">\r\n",
        "Suburban area, $C_m = -2[log(fc/28)]^2 -5.4$ \r\n",
        ">\r\n",
        "Open Area, $C_m = -4.78[log(fc)]^2 + 18.33log(fc) - 40.94$"
      ]
    },
    {
      "cell_type": "code",
      "metadata": {
        "id": "7X43sfcKs7oL"
      },
      "source": [
        "def valueCM(area,fc):\r\n",
        "  if area =='urban':\r\n",
        "    cm=0\r\n",
        "    return cm\r\n",
        "  else:\r\n",
        "    if area =='suburban':\r\n",
        "      cm= -2*np.log10(fc)**2 - 5.4\r\n",
        "      return cm\r\n",
        "    else:\r\n",
        "      if area =='open':\r\n",
        "        cm= (-4.78*np.log10(fc)**2)+(18.33*np.log10(fc))-40.94\r\n",
        "      return cm"
      ],
      "execution_count": null,
      "outputs": []
    },
    {
      "cell_type": "code",
      "metadata": {
        "id": "6t6ooZzas79V"
      },
      "source": [
        "CM=valueCM(\"open\",1000)\r\n",
        "print(\"cm= \",CM)"
      ],
      "execution_count": null,
      "outputs": []
    },
    {
      "cell_type": "markdown",
      "metadata": {
        "id": "nha2KX9ns8sP"
      },
      "source": [
        "**Cost 231 Pathloss Model**\r\n",
        ">\r\n",
        "$L_P=C_1 + C_2log(f_c)-13.83log(h_\\tau)-a(h_R) +[44.9-6.55log(h_\\tau)]log(d)+C_m$"
      ]
    },
    {
      "cell_type": "code",
      "metadata": {
        "id": "J05Kblpys91T"
      },
      "source": [
        "def ploss(d,fc,area,ht,hr):\r\n",
        "  #Calculate Pathloss\r\n",
        "  Lp = C1 + (C2*np.log10(fc)) - (13.83*np.log10(ht)) - AHR + (44.9 - (6.55*np.log10(ht)))*(np.log10(d)) + CM\r\n",
        "  #Convert to dB\r\n",
        "  Lpdb = NtL(Lp)\r\n",
        "  return Lp,Lpdb"
      ],
      "execution_count": null,
      "outputs": []
    },
    {
      "cell_type": "code",
      "metadata": {
        "id": "wsMymbNis-ZA"
      },
      "source": [
        "PathLoss,PathLossdb = ploss(7,1000,\"open\",50,20)\r\n",
        "print(\"The Path Loss is \",PathLoss,\"Watt\")\r\n",
        "print(\"The Path Loss is \",PathLossdb,\"dB\")"
      ],
      "execution_count": null,
      "outputs": []
    },
    {
      "cell_type": "markdown",
      "metadata": {
        "id": "VY8Rc8XCs-er"
      },
      "source": [
        "The Path Loss is  101.98368159103964 Watt\r\n",
        "The Path Loss is  20.085306858606458 dB"
      ]
    }
  ]
}